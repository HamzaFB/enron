{
 "cells": [
  {
   "cell_type": "code",
   "execution_count": 20,
   "metadata": {
    "collapsed": false
   },
   "outputs": [
    {
     "data": {
      "text/plain": [
       "{u'acknowledged': True}"
      ]
     },
     "execution_count": 20,
     "metadata": {},
     "output_type": "execute_result"
    }
   ],
   "source": [
    "from elasticsearch import Elasticsearch\n",
    "es = Elasticsearch(['192.168.0.216'], port=9200)\n",
    "\n",
    "header = {'Content-Transfer-Encoding': {'type': 'string',  \"include_in_all\": \"false\"},\n",
    "          'Content-Type': {'type': 'string',  \"include_in_all\": \"false\"},\n",
    "          'Date': {'type': 'date',  \"include_in_all\": \"true\"},\n",
    "          'From': {'type': 'string',  \"include_in_all\": \"false\"},\n",
    "          'Message-ID': {'type': 'string',  \"include_in_all\": \"true\"},\n",
    "          'Mime-Version': {'type': 'string',  \"include_in_all\": \"false\"},\n",
    "          'Subject': {'type': 'string',  \"include_in_all\": \"false\"},\n",
    "          'To': {'type': 'string',  \"include_in_all\": \"false\"},\n",
    "          'X-Bcc': {'type': 'string',  \"include_in_all\": \"false\"},\n",
    "          'X-Cc': {'type': 'string',  \"include_in_all\": \"false\"},\n",
    "          'X-FileName': {'type': 'string',  \"include_in_all\": \"false\"},\n",
    "          'X-Folder':{'type': 'string',  \"include_in_all\": \"false\"},\n",
    "          'X-From': {'type': 'string',  \"include_in_all\": \"false\"},\n",
    "          'X-Origin': {'type': 'string',  \"include_in_all\": \"false\"},\n",
    "          'X-To': {'type': 'string',  \"include_in_all\": \"false\"}}\n",
    "\n",
    "message= {'Message-ID': {'type': 'string',  \"include_in_all\": \"true\"},\n",
    "          'Message': {'type': 'string',  \"include_in_all\": \"false\"},\n",
    "         }\n",
    "\n",
    "header_mapping = {\n",
    "  'settings' : {\n",
    "        'number_of_shards' : 5,\n",
    "        'number_of_replicas' : 1 },  \n",
    "  'mappings': {\n",
    "    'enron': header\n",
    "        }}\n",
    "\n",
    "message_mapping = {\n",
    "  'settings' : {\n",
    "        'number_of_shards' : 5,\n",
    "        'number_of_replicas' : 1 },  \n",
    "  'mappings': {\n",
    "    'enron': message\n",
    "        }}\n",
    "\n",
    "es.indices.delete(index='header', ignore=[400, 404])\n",
    "es.indices.delete(index='message', ignore=[400, 404])\n",
    "\n",
    "es.indices.create(index='header', ignore=[400, 404])\n",
    "es.indices.create(index='message', ignore=[400, 404])\n"
   ]
  },
  {
   "cell_type": "code",
   "execution_count": null,
   "metadata": {
    "collapsed": true
   },
   "outputs": [],
   "source": []
  }
 ],
 "metadata": {
  "kernelspec": {
   "display_name": "Python 2",
   "language": "python",
   "name": "python2"
  },
  "language_info": {
   "codemirror_mode": {
    "name": "ipython",
    "version": 2
   },
   "file_extension": ".py",
   "mimetype": "text/x-python",
   "name": "python",
   "nbconvert_exporter": "python",
   "pygments_lexer": "ipython2",
   "version": "2.7.12"
  }
 },
 "nbformat": 4,
 "nbformat_minor": 0
}
